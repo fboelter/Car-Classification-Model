{
 "cells": [
  {
   "cell_type": "markdown",
   "id": "51a67237",
   "metadata": {
    "papermill": {
     "duration": 0.006309,
     "end_time": "2023-05-03T17:13:13.211039",
     "exception": false,
     "start_time": "2023-05-03T17:13:13.204730",
     "status": "completed"
    },
    "tags": []
   },
   "source": [
    "**Import Libraries Needed **"
   ]
  },
  {
   "cell_type": "code",
   "execution_count": 1,
   "id": "97383638",
   "metadata": {
    "execution": {
     "iopub.execute_input": "2023-05-03T17:13:13.224637Z",
     "iopub.status.busy": "2023-05-03T17:13:13.224071Z",
     "iopub.status.idle": "2023-05-03T17:13:24.141623Z",
     "shell.execute_reply": "2023-05-03T17:13:24.140171Z"
    },
    "papermill": {
     "duration": 10.928048,
     "end_time": "2023-05-03T17:13:24.144749",
     "exception": false,
     "start_time": "2023-05-03T17:13:13.216701",
     "status": "completed"
    },
    "tags": []
   },
   "outputs": [],
   "source": [
    "import numpy as np # linear algebra\n",
    "import pandas as pd # data processing, CSV file I/O (e.g. pd.read_csv)\n",
    "from tensorflow.keras.preprocessing.image import ImageDataGenerator\n",
    "from keras.callbacks import EarlyStopping\n",
    "from tensorflow.keras.applications.resnet50 import ResNet50, preprocess_input, decode_predictions\n",
    "from tensorflow.keras.preprocessing import image\n",
    "from tensorflow.keras.models import Model\n",
    "from tensorflow.keras.layers import Dense, Flatten, Dropout\n",
    "from tensorflow.keras.metrics import top_k_categorical_accuracy\n",
    "from sklearn.model_selection import train_test_split\n",
    "import matplotlib.pyplot as plt\n",
    "from keras.utils import load_img\n",
    "from sklearn.metrics import confusion_matrix, ConfusionMatrixDisplay\n",
    "\n",
    "\n"
   ]
  },
  {
   "cell_type": "code",
   "execution_count": 2,
   "id": "7d79da48",
   "metadata": {
    "_cell_guid": "b1076dfc-b9ad-4769-8c92-a6c4dae69d19",
    "_kg_hide-output": true,
    "_uuid": "8f2839f25d086af736a60e9eeb907d3b93b6e0e5",
    "execution": {
     "iopub.execute_input": "2023-05-03T17:13:24.156368Z",
     "iopub.status.busy": "2023-05-03T17:13:24.155570Z",
     "iopub.status.idle": "2023-05-03T17:13:26.972630Z",
     "shell.execute_reply": "2023-05-03T17:13:26.971158Z"
    },
    "papermill": {
     "duration": 2.826273,
     "end_time": "2023-05-03T17:13:26.975700",
     "exception": false,
     "start_time": "2023-05-03T17:13:24.149427",
     "status": "completed"
    },
    "tags": []
   },
   "outputs": [],
   "source": [
    "# This Python 3 environment comes with many helpful analytics libraries installed\n",
    "# It is defined by the kaggle/python Docker image: https://github.com/kaggle/docker-python\n",
    "# For example, here's several helpful packages to load\n",
    "\n",
    "\n",
    "# Input data files are available in the read-only \"../input/\" directory\n",
    "# For example, running this (by clicking run or pressing Shift+Enter) will list all files under the input directory\n",
    "\n",
    "# import os\n",
    "# for dirname, _, filenames in os.walk('/kaggle/input'):\n",
    "#     for filename in filenames:\n",
    "#         print(os.path.join(dirname, filename))\n",
    "\n",
    "\n",
    "import os\n",
    "labels = []\n",
    "image_path = []\n",
    "for dirname, _, filenames in os.walk('/kaggle/input/stanford-car-dataset-by-classes-folder/car_data/car_data/train'):\n",
    "    for filename in filenames:\n",
    "        if filename.endswith('.jpg'):\n",
    "            image_path.append(os.path.join(dirname, filename))\n",
    "            labels.append(os.path.basename(os.path.normpath(dirname)))\n",
    "\n",
    "# You can write up to 20GB to the current directory (/kaggle/working/) that gets preserved as output when you create a version using \"Save & Run All\" \n",
    "# You can also write temporary files to /kaggle/temp/, but they won't be saved outside of the current session"
   ]
  },
  {
   "cell_type": "code",
   "execution_count": 3,
   "id": "d2dc9257",
   "metadata": {
    "execution": {
     "iopub.execute_input": "2023-05-03T17:13:26.989172Z",
     "iopub.status.busy": "2023-05-03T17:13:26.988651Z",
     "iopub.status.idle": "2023-05-03T17:13:27.018466Z",
     "shell.execute_reply": "2023-05-03T17:13:27.016944Z"
    },
    "papermill": {
     "duration": 0.041028,
     "end_time": "2023-05-03T17:13:27.021911",
     "exception": false,
     "start_time": "2023-05-03T17:13:26.980883",
     "status": "completed"
    },
    "tags": []
   },
   "outputs": [],
   "source": [
    "# Train Test Split\n",
    "images_train, images_test, labels_train, labels_test = train_test_split(image_path, labels, test_size=0.25, random_state=10, stratify=labels)"
   ]
  },
  {
   "cell_type": "code",
   "execution_count": 4,
   "id": "97bc5ecd",
   "metadata": {
    "execution": {
     "iopub.execute_input": "2023-05-03T17:13:27.035076Z",
     "iopub.status.busy": "2023-05-03T17:13:27.033838Z",
     "iopub.status.idle": "2023-05-03T17:13:32.018144Z",
     "shell.execute_reply": "2023-05-03T17:13:32.016026Z"
    },
    "papermill": {
     "duration": 4.994227,
     "end_time": "2023-05-03T17:13:32.021693",
     "exception": false,
     "start_time": "2023-05-03T17:13:27.027466",
     "status": "completed"
    },
    "tags": []
   },
   "outputs": [],
   "source": [
    "model = ResNet50(include_top=False, input_shape=(200,200,3), weights = \"/kaggle/input/resnet-weights/resnet50_weights_tf_dim_ordering_tf_kernels_notop.h5\")\n",
    "\n",
    "## defining early stopping\n",
    "early_stop = EarlyStopping(monitor='val_loss', patience=10, verbose=1)\n",
    "\n",
    "for layer in model.layers:\n",
    "    layer.trainable = False\n",
    "\n",
    "#add new classifier layers \n",
    "\n",
    "flat1 = Flatten()(model.output)\n",
    "class1 = Dense(1024, activation = 'relu')(flat1)\n",
    "drop_layer = Dropout(0.2)(class1)\n",
    "output = Dense(196, activation = 'softmax')(drop_layer)\n",
    "model = Model(inputs = model.inputs, outputs = output)\n",
    "\n",
    "# compile the model (should be done *after* setting layers to non-trainable)\n",
    "model.compile(optimizer='sgd', loss='categorical_crossentropy', metrics = ['accuracy'])"
   ]
  },
  {
   "cell_type": "code",
   "execution_count": 5,
   "id": "7445ade8",
   "metadata": {
    "execution": {
     "iopub.execute_input": "2023-05-03T17:13:32.033729Z",
     "iopub.status.busy": "2023-05-03T17:13:32.033324Z",
     "iopub.status.idle": "2023-05-03T17:13:32.039554Z",
     "shell.execute_reply": "2023-05-03T17:13:32.037807Z"
    },
    "papermill": {
     "duration": 0.016241,
     "end_time": "2023-05-03T17:13:32.043176",
     "exception": false,
     "start_time": "2023-05-03T17:13:32.026935",
     "status": "completed"
    },
    "tags": []
   },
   "outputs": [],
   "source": [
    "#model.summary()"
   ]
  },
  {
   "cell_type": "code",
   "execution_count": 6,
   "id": "8fee8a72",
   "metadata": {
    "execution": {
     "iopub.execute_input": "2023-05-03T17:13:32.055148Z",
     "iopub.status.busy": "2023-05-03T17:13:32.053900Z",
     "iopub.status.idle": "2023-05-03T20:30:49.913810Z",
     "shell.execute_reply": "2023-05-03T20:30:49.912806Z"
    },
    "papermill": {
     "duration": 11837.868527,
     "end_time": "2023-05-03T20:30:49.916414",
     "exception": false,
     "start_time": "2023-05-03T17:13:32.047887",
     "status": "completed"
    },
    "tags": []
   },
   "outputs": [
    {
     "name": "stdout",
     "output_type": "stream",
     "text": [
      "Found 8144 images belonging to 196 classes.\n",
      "Found 8041 images belonging to 196 classes.\n",
      "Epoch 1/100\n",
      "50/50 [==============================] - 181s 4s/step - loss: 8.3200 - accuracy: 0.0056 - val_loss: 5.2811 - val_accuracy: 0.0000e+00\n",
      "Epoch 2/100\n",
      "50/50 [==============================] - 170s 3s/step - loss: 5.2612 - accuracy: 0.0114 - val_loss: 5.2146 - val_accuracy: 0.0000e+00\n",
      "Epoch 3/100\n",
      "50/50 [==============================] - 173s 3s/step - loss: 5.2008 - accuracy: 0.0169 - val_loss: 5.0462 - val_accuracy: 0.0312\n",
      "Epoch 4/100\n",
      "50/50 [==============================] - 171s 3s/step - loss: 5.1081 - accuracy: 0.0237 - val_loss: 5.1551 - val_accuracy: 0.0000e+00\n",
      "Epoch 5/100\n",
      "50/50 [==============================] - 170s 3s/step - loss: 4.9934 - accuracy: 0.0316 - val_loss: 5.0014 - val_accuracy: 0.0312\n",
      "Epoch 6/100\n",
      "50/50 [==============================] - 167s 3s/step - loss: 4.9015 - accuracy: 0.0398 - val_loss: 4.7654 - val_accuracy: 0.0312\n",
      "Epoch 7/100\n",
      "50/50 [==============================] - 170s 3s/step - loss: 4.7530 - accuracy: 0.0500 - val_loss: 4.8443 - val_accuracy: 0.0625\n",
      "Epoch 8/100\n",
      "50/50 [==============================] - 169s 3s/step - loss: 4.6280 - accuracy: 0.0587 - val_loss: 4.4670 - val_accuracy: 0.0312\n",
      "Epoch 9/100\n",
      "50/50 [==============================] - 167s 3s/step - loss: 4.5441 - accuracy: 0.0800 - val_loss: 4.7636 - val_accuracy: 0.0312\n",
      "Epoch 10/100\n",
      "50/50 [==============================] - 171s 3s/step - loss: 4.4093 - accuracy: 0.0787 - val_loss: 4.3226 - val_accuracy: 0.0625\n",
      "Epoch 11/100\n",
      "50/50 [==============================] - 171s 3s/step - loss: 4.2343 - accuracy: 0.0884 - val_loss: 4.2346 - val_accuracy: 0.0625\n",
      "Epoch 12/100\n",
      "50/50 [==============================] - 172s 3s/step - loss: 4.1597 - accuracy: 0.1112 - val_loss: 4.0839 - val_accuracy: 0.0312\n",
      "Epoch 13/100\n",
      "50/50 [==============================] - 170s 3s/step - loss: 4.0823 - accuracy: 0.1131 - val_loss: 4.1157 - val_accuracy: 0.0625\n",
      "Epoch 14/100\n",
      "50/50 [==============================] - 170s 3s/step - loss: 3.8951 - accuracy: 0.1513 - val_loss: 3.7407 - val_accuracy: 0.1250\n",
      "Epoch 15/100\n",
      "50/50 [==============================] - 172s 3s/step - loss: 3.8640 - accuracy: 0.1481 - val_loss: 3.4153 - val_accuracy: 0.2188\n",
      "Epoch 16/100\n",
      "50/50 [==============================] - 171s 3s/step - loss: 3.7577 - accuracy: 0.1625 - val_loss: 3.7908 - val_accuracy: 0.1250\n",
      "Epoch 17/100\n",
      "50/50 [==============================] - 168s 3s/step - loss: 3.7194 - accuracy: 0.1717 - val_loss: 3.6650 - val_accuracy: 0.1250\n",
      "Epoch 18/100\n",
      "50/50 [==============================] - 172s 3s/step - loss: 3.5828 - accuracy: 0.1725 - val_loss: 3.6063 - val_accuracy: 0.0625\n",
      "Epoch 19/100\n",
      "50/50 [==============================] - 172s 3s/step - loss: 3.4938 - accuracy: 0.1988 - val_loss: 3.3910 - val_accuracy: 0.1875\n",
      "Epoch 20/100\n",
      "50/50 [==============================] - 170s 3s/step - loss: 3.4392 - accuracy: 0.1956 - val_loss: 3.4052 - val_accuracy: 0.2188\n",
      "Epoch 21/100\n",
      "50/50 [==============================] - 171s 3s/step - loss: 3.4246 - accuracy: 0.1869 - val_loss: 3.1911 - val_accuracy: 0.2500\n",
      "Epoch 22/100\n",
      "50/50 [==============================] - 171s 3s/step - loss: 3.2923 - accuracy: 0.2237 - val_loss: 3.6562 - val_accuracy: 0.2500\n",
      "Epoch 23/100\n",
      "50/50 [==============================] - 171s 3s/step - loss: 3.2812 - accuracy: 0.2156 - val_loss: 3.4297 - val_accuracy: 0.2188\n",
      "Epoch 24/100\n",
      "50/50 [==============================] - 169s 3s/step - loss: 3.1186 - accuracy: 0.2575 - val_loss: 3.4643 - val_accuracy: 0.1875\n",
      "Epoch 25/100\n",
      "50/50 [==============================] - 172s 3s/step - loss: 3.1315 - accuracy: 0.2456 - val_loss: 3.9175 - val_accuracy: 0.0625\n",
      "Epoch 26/100\n",
      "50/50 [==============================] - 168s 3s/step - loss: 3.0701 - accuracy: 0.2532 - val_loss: 3.7210 - val_accuracy: 0.0938\n",
      "Epoch 27/100\n",
      "50/50 [==============================] - 176s 4s/step - loss: 3.0004 - accuracy: 0.2706 - val_loss: 3.5615 - val_accuracy: 0.1562\n",
      "Epoch 28/100\n",
      "50/50 [==============================] - 173s 3s/step - loss: 2.8693 - accuracy: 0.2944 - val_loss: 2.7446 - val_accuracy: 0.3438\n",
      "Epoch 29/100\n",
      "50/50 [==============================] - 172s 3s/step - loss: 2.9021 - accuracy: 0.2912 - val_loss: 2.8169 - val_accuracy: 0.3125\n",
      "Epoch 30/100\n",
      "50/50 [==============================] - 174s 3s/step - loss: 2.8335 - accuracy: 0.3019 - val_loss: 3.3203 - val_accuracy: 0.1875\n",
      "Epoch 31/100\n",
      "50/50 [==============================] - 175s 3s/step - loss: 2.7264 - accuracy: 0.3162 - val_loss: 3.4004 - val_accuracy: 0.2500\n",
      "Epoch 32/100\n",
      "50/50 [==============================] - 172s 3s/step - loss: 2.6913 - accuracy: 0.3444 - val_loss: 3.2194 - val_accuracy: 0.1875\n",
      "Epoch 33/100\n",
      "50/50 [==============================] - 167s 3s/step - loss: 2.6342 - accuracy: 0.3281 - val_loss: 3.3502 - val_accuracy: 0.2188\n",
      "Epoch 34/100\n",
      "50/50 [==============================] - 164s 3s/step - loss: 2.6540 - accuracy: 0.3338 - val_loss: 3.0136 - val_accuracy: 0.2812\n",
      "Epoch 35/100\n",
      "50/50 [==============================] - 170s 3s/step - loss: 2.5222 - accuracy: 0.3581 - val_loss: 3.1040 - val_accuracy: 0.1875\n",
      "Epoch 36/100\n",
      "50/50 [==============================] - 168s 3s/step - loss: 2.5182 - accuracy: 0.3669 - val_loss: 2.6166 - val_accuracy: 0.3438\n",
      "Epoch 37/100\n",
      "50/50 [==============================] - 167s 3s/step - loss: 2.5061 - accuracy: 0.3594 - val_loss: 2.9678 - val_accuracy: 0.2500\n",
      "Epoch 38/100\n",
      "50/50 [==============================] - 170s 3s/step - loss: 2.4132 - accuracy: 0.3844 - val_loss: 3.1103 - val_accuracy: 0.2812\n",
      "Epoch 39/100\n",
      "50/50 [==============================] - 168s 3s/step - loss: 2.3643 - accuracy: 0.4044 - val_loss: 3.2983 - val_accuracy: 0.2188\n",
      "Epoch 40/100\n",
      "50/50 [==============================] - 167s 3s/step - loss: 2.4165 - accuracy: 0.3787 - val_loss: 3.1129 - val_accuracy: 0.1875\n",
      "Epoch 41/100\n",
      "50/50 [==============================] - 161s 3s/step - loss: 2.3986 - accuracy: 0.3856 - val_loss: 2.5219 - val_accuracy: 0.4062\n",
      "Epoch 42/100\n",
      "50/50 [==============================] - 162s 3s/step - loss: 2.3398 - accuracy: 0.3862 - val_loss: 2.8594 - val_accuracy: 0.3125\n",
      "Epoch 43/100\n",
      "50/50 [==============================] - 163s 3s/step - loss: 2.2827 - accuracy: 0.4056 - val_loss: 2.3050 - val_accuracy: 0.4062\n",
      "Epoch 44/100\n",
      "50/50 [==============================] - 161s 3s/step - loss: 2.1892 - accuracy: 0.4187 - val_loss: 2.8107 - val_accuracy: 0.3125\n",
      "Epoch 45/100\n",
      "50/50 [==============================] - 161s 3s/step - loss: 2.2356 - accuracy: 0.4250 - val_loss: 2.6304 - val_accuracy: 0.3125\n",
      "Epoch 46/100\n",
      "50/50 [==============================] - 162s 3s/step - loss: 2.0955 - accuracy: 0.4700 - val_loss: 2.8524 - val_accuracy: 0.3750\n",
      "Epoch 47/100\n",
      "50/50 [==============================] - 162s 3s/step - loss: 2.1346 - accuracy: 0.4223 - val_loss: 3.5691 - val_accuracy: 0.1875\n",
      "Epoch 48/100\n",
      "50/50 [==============================] - 161s 3s/step - loss: 2.1882 - accuracy: 0.4482 - val_loss: 3.4480 - val_accuracy: 0.2500\n",
      "Epoch 49/100\n",
      "50/50 [==============================] - 163s 3s/step - loss: 2.1072 - accuracy: 0.4481 - val_loss: 2.6875 - val_accuracy: 0.3125\n",
      "Epoch 50/100\n",
      "50/50 [==============================] - 162s 3s/step - loss: 2.0673 - accuracy: 0.4525 - val_loss: 2.8906 - val_accuracy: 0.1875\n",
      "Epoch 51/100\n",
      "50/50 [==============================] - 164s 3s/step - loss: 1.9802 - accuracy: 0.4800 - val_loss: 3.5568 - val_accuracy: 0.1875\n",
      "Epoch 52/100\n",
      "50/50 [==============================] - 163s 3s/step - loss: 1.9325 - accuracy: 0.4819 - val_loss: 2.2042 - val_accuracy: 0.4688\n",
      "Epoch 53/100\n",
      "50/50 [==============================] - 162s 3s/step - loss: 1.9557 - accuracy: 0.4969 - val_loss: 2.7749 - val_accuracy: 0.3438\n",
      "Epoch 54/100\n",
      "50/50 [==============================] - 163s 3s/step - loss: 1.9000 - accuracy: 0.4869 - val_loss: 2.9360 - val_accuracy: 0.2188\n",
      "Epoch 55/100\n",
      "50/50 [==============================] - 163s 3s/step - loss: 1.8642 - accuracy: 0.5113 - val_loss: 2.7406 - val_accuracy: 0.3438\n",
      "Epoch 56/100\n",
      "50/50 [==============================] - 163s 3s/step - loss: 1.7804 - accuracy: 0.5100 - val_loss: 2.8683 - val_accuracy: 0.4062\n",
      "Epoch 57/100\n",
      "50/50 [==============================] - 163s 3s/step - loss: 1.8251 - accuracy: 0.5075 - val_loss: 3.1448 - val_accuracy: 0.3438\n",
      "Epoch 58/100\n",
      "50/50 [==============================] - 163s 3s/step - loss: 1.7264 - accuracy: 0.5425 - val_loss: 3.2382 - val_accuracy: 0.3438\n",
      "Epoch 59/100\n",
      "50/50 [==============================] - 162s 3s/step - loss: 1.7795 - accuracy: 0.5219 - val_loss: 2.8494 - val_accuracy: 0.2812\n",
      "Epoch 60/100\n",
      "50/50 [==============================] - 162s 3s/step - loss: 1.7242 - accuracy: 0.5544 - val_loss: 2.7526 - val_accuracy: 0.3750\n",
      "Epoch 61/100\n",
      "50/50 [==============================] - 161s 3s/step - loss: 1.6856 - accuracy: 0.5492 - val_loss: 2.8424 - val_accuracy: 0.2812\n",
      "Epoch 62/100\n",
      "50/50 [==============================] - 161s 3s/step - loss: 1.6991 - accuracy: 0.5525 - val_loss: 2.9869 - val_accuracy: 0.2500\n",
      "Epoch 62: early stopping\n"
     ]
    }
   ],
   "source": [
    "## Attempting Data Augmentation\n",
    "\n",
    "data_generator = ImageDataGenerator(preprocessing_function=preprocess_input, horizontal_flip=True, width_shift_range=0.1, height_shift_range=0.1)\n",
    "\n",
    "#preprocessing\n",
    "train_folder=\"../input/stanford-car-dataset-by-classes-folder/car_data/car_data/train\"\n",
    "test_folder=\"../input/stanford-car-dataset-by-classes-folder/car_data/car_data/test\"\n",
    "\n",
    "#grabbing different images\n",
    "train_generator = data_generator.flow_from_directory(train_folder, target_size=(200, 200), class_mode='categorical')\n",
    "test_generator = data_generator.flow_from_directory(test_folder, target_size=(200, 200), class_mode='categorical')\n",
    "\n",
    "history=model.fit(train_generator, steps_per_epoch=50, validation_data=test_generator, validation_steps=1, epochs=100, callbacks=[early_stop])\n"
   ]
  },
  {
   "cell_type": "code",
   "execution_count": 7,
   "id": "f3a5c65e",
   "metadata": {
    "execution": {
     "iopub.execute_input": "2023-05-03T20:30:50.332106Z",
     "iopub.status.busy": "2023-05-03T20:30:50.331079Z",
     "iopub.status.idle": "2023-05-03T20:31:31.107580Z",
     "shell.execute_reply": "2023-05-03T20:31:31.106396Z"
    },
    "papermill": {
     "duration": 41.071575,
     "end_time": "2023-05-03T20:31:31.194367",
     "exception": false,
     "start_time": "2023-05-03T20:30:50.122792",
     "status": "completed"
    },
    "tags": []
   },
   "outputs": [
    {
     "data": {
      "image/png": "[encoded data removed]",
      "text/plain": [
       "<Figure size 640x480 with 1 Axes>"
      ]
     },
     "metadata": {},
     "output_type": "display_data"
    },
    {
     "data": {
      "image/png": "[encoded data removed]",
      "text/plain": [
       "<Figure size 640x480 with 1 Axes>"
      ]
     },
     "metadata": {},
     "output_type": "display_data"
    }
   ],
   "source": [
    "history.history.keys()\n",
    "plt.plot(history.history['accuracy'])\n",
    "plt.plot(history.history['val_accuracy'])\n",
    "plt.title('Model Accuracy')\n",
    "plt.ylabel('Accuracy')\n",
    "plt.xlabel('Epoch(s)')\n",
    "plt.legend(['Train', 'Test'], loc='upper left')\n",
    "plt.show()\n",
    "# summarize history for loss\n",
    "plt.plot(history.history['loss'])\n",
    "plt.plot(history.history['val_loss'])\n",
    "plt.title('Model Loss')\n",
    "plt.ylabel('Loss')\n",
    "plt.xlabel('Epoch(s)')\n",
    "plt.legend(['Train', 'Test'], loc='upper left')\n",
    "plt.show()"
   ]
  },
  {
   "cell_type": "code",
   "execution_count": 8,
   "id": "fd989452",
   "metadata": {
    "execution": {
     "iopub.execute_input": "2023-05-03T20:31:31.614883Z",
     "iopub.status.busy": "2023-05-03T20:31:31.613717Z",
     "iopub.status.idle": "2023-05-03T20:44:05.174849Z",
     "shell.execute_reply": "2023-05-03T20:44:05.173285Z"
    },
    "papermill": {
     "duration": 753.915049,
     "end_time": "2023-05-03T20:44:05.316582",
     "exception": false,
     "start_time": "2023-05-03T20:31:31.401533",
     "status": "completed"
    },
    "tags": []
   },
   "outputs": [
    {
     "name": "stdout",
     "output_type": "stream",
     "text": [
      "252/252 [==============================] - 753s 3s/step\n",
      "Correctly Indentified: 45\n",
      "Incorrectly Indentified: 7996\n"
     ]
    }
   ],
   "source": [
    "## this is actually useful\n",
    "predictions = model.predict(test_generator)\n",
    "\n",
    "predicted_classes = np.argmax(predictions, axis=1)\n",
    "true_classes = test_generator.classes\n",
    "correctly_classified = np.where(predicted_classes == true_classes)[0]\n",
    "incorrectly_classified = np.where(predicted_classes != true_classes)[0]\n",
    "\n",
    "print(\"Correctly Indentified:\" , len(correctly_classified))\n",
    "print(\"Incorrectly Indentified:\" , len(incorrectly_classified))"
   ]
  },
  {
   "cell_type": "code",
   "execution_count": 9,
   "id": "d932ef8d",
   "metadata": {
    "execution": {
     "iopub.execute_input": "2023-05-03T20:44:05.867285Z",
     "iopub.status.busy": "2023-05-03T20:44:05.866854Z",
     "iopub.status.idle": "2023-05-03T20:44:32.010501Z",
     "shell.execute_reply": "2023-05-03T20:44:32.009268Z"
    },
    "papermill": {
     "duration": 26.403882,
     "end_time": "2023-05-03T20:44:32.013577",
     "exception": false,
     "start_time": "2023-05-03T20:44:05.609695",
     "status": "completed"
    },
    "tags": []
   },
   "outputs": [],
   "source": [
    "model.save(\"/kaggle/working/\")"
   ]
  },
  {
   "cell_type": "code",
   "execution_count": 10,
   "id": "7cdf6d5c",
   "metadata": {
    "execution": {
     "iopub.execute_input": "2023-05-03T20:44:32.600761Z",
     "iopub.status.busy": "2023-05-03T20:44:32.600146Z",
     "iopub.status.idle": "2023-05-03T20:44:32.613623Z",
     "shell.execute_reply": "2023-05-03T20:44:32.612091Z"
    },
    "papermill": {
     "duration": 0.348088,
     "end_time": "2023-05-03T20:44:32.616535",
     "exception": false,
     "start_time": "2023-05-03T20:44:32.268447",
     "status": "completed"
    },
    "tags": []
   },
   "outputs": [],
   "source": [
    "# class_indices = test_generator.class_indices\n",
    "# # Invert the class indices\n",
    "# inv_class_indices = {v: k for k, v in class_indices.items()}\n",
    "# # Decode the predictions\n",
    "# decoded_preds = []\n",
    "# for pred in predictions:\n",
    "#     # Get the index of the predicted class\n",
    "#     pred_class_idx = pred.argmax()\n",
    "    \n",
    "#     # Map the predicted class index to the corresponding class name\n",
    "#     pred_class_name = inv_class_indices[pred_class_idx]\n",
    "    \n",
    "#     # Append the decoded prediction to the list\n",
    "#     decoded_preds.append(pred_class_name)"
   ]
  },
  {
   "cell_type": "code",
   "execution_count": 11,
   "id": "77c83edf",
   "metadata": {
    "execution": {
     "iopub.execute_input": "2023-05-03T20:44:33.084820Z",
     "iopub.status.busy": "2023-05-03T20:44:33.084389Z",
     "iopub.status.idle": "2023-05-03T20:44:33.090835Z",
     "shell.execute_reply": "2023-05-03T20:44:33.089366Z"
    },
    "papermill": {
     "duration": 0.246404,
     "end_time": "2023-05-03T20:44:33.093894",
     "exception": false,
     "start_time": "2023-05-03T20:44:32.847490",
     "status": "completed"
    },
    "tags": []
   },
   "outputs": [],
   "source": [
    "# score = model.evaluate_generator(test_generator)\n",
    "# score"
   ]
  },
  {
   "cell_type": "code",
   "execution_count": 12,
   "id": "852e5192",
   "metadata": {
    "execution": {
     "iopub.execute_input": "2023-05-03T20:44:33.546492Z",
     "iopub.status.busy": "2023-05-03T20:44:33.546083Z",
     "iopub.status.idle": "2023-05-03T20:44:33.552508Z",
     "shell.execute_reply": "2023-05-03T20:44:33.550785Z"
    },
    "papermill": {
     "duration": 0.23337,
     "end_time": "2023-05-03T20:44:33.554841",
     "exception": false,
     "start_time": "2023-05-03T20:44:33.321471",
     "status": "completed"
    },
    "tags": []
   },
   "outputs": [],
   "source": [
    "# image = load_img('/kaggle/input/stanford-car-dataset-by-classes-folder/car_data/car_data/test/AM General Hummer SUV 2000/00076.jpg', target_size=(200, 200))\n",
    "# image"
   ]
  },
  {
   "cell_type": "code",
   "execution_count": 13,
   "id": "bd505051",
   "metadata": {
    "execution": {
     "iopub.execute_input": "2023-05-03T20:44:34.011841Z",
     "iopub.status.busy": "2023-05-03T20:44:34.011411Z",
     "iopub.status.idle": "2023-05-03T20:44:34.017237Z",
     "shell.execute_reply": "2023-05-03T20:44:34.015848Z"
    },
    "papermill": {
     "duration": 0.235008,
     "end_time": "2023-05-03T20:44:34.019725",
     "exception": false,
     "start_time": "2023-05-03T20:44:33.784717",
     "status": "completed"
    },
    "tags": []
   },
   "outputs": [],
   "source": [
    "# history.history.keys()\n",
    "# plt.plot(history.history['accuracy'])\n",
    "# plt.plot(history.history['val_accuracy'])\n",
    "# plt.title('Model Accuracy')\n",
    "# plt.ylabel('Accuracy')\n",
    "# plt.xlabel('Epoch(s)')\n",
    "# plt.legend(['Train', 'Test'], loc='upper left')\n",
    "# plt.show()\n",
    "# # summarize history for loss\n",
    "# plt.plot(history.history['loss'])\n",
    "# plt.plot(history.history['val_loss'])\n",
    "# plt.title('Model Loss')\n",
    "# plt.ylabel('Loss')\n",
    "# plt.xlabel('Epoch(s)')\n",
    "# plt.legend(['Train', 'Test'], loc='upper left')\n",
    "# plt.show()"
   ]
  },
  {
   "cell_type": "code",
   "execution_count": 14,
   "id": "a728df57",
   "metadata": {
    "execution": {
     "iopub.execute_input": "2023-05-03T20:44:34.475488Z",
     "iopub.status.busy": "2023-05-03T20:44:34.475034Z",
     "iopub.status.idle": "2023-05-03T20:44:34.480140Z",
     "shell.execute_reply": "2023-05-03T20:44:34.479126Z"
    },
    "papermill": {
     "duration": 0.234158,
     "end_time": "2023-05-03T20:44:34.482609",
     "exception": false,
     "start_time": "2023-05-03T20:44:34.248451",
     "status": "completed"
    },
    "tags": []
   },
   "outputs": [],
   "source": [
    "# model.save(\"/kaggle/working/AugmentedData.h5\")"
   ]
  }
 ],
 "metadata": {
  "kernelspec": {
   "display_name": "Python 3",
   "language": "python",
   "name": "python3"
  },
  "language_info": {
   "codemirror_mode": {
    "name": "ipython",
    "version": 3
   },
   "file_extension": ".py",
   "mimetype": "text/x-python",
   "name": "python",
   "nbconvert_exporter": "python",
   "pygments_lexer": "ipython3",
   "version": "3.7.12"
  },
  "papermill": {
   "default_parameters": {},
   "duration": 12698.563332,
   "end_time": "2023-05-03T20:44:38.092338",
   "environment_variables": {},
   "exception": null,
   "input_path": "__notebook__.ipynb",
   "output_path": "__notebook__.ipynb",
   "parameters": {},
   "start_time": "2023-05-03T17:12:59.529006",
   "version": "2.4.0"
  }
 },
 "nbformat": 4,
 "nbformat_minor": 5
}
